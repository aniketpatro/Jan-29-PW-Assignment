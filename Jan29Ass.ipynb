{
 "cells": [
  {
   "attachments": {},
   "cell_type": "markdown",
   "metadata": {},
   "source": [
    "## 1.\n",
    "    Guido van Rossum is devloped python programming."
   ]
  },
  {
   "attachments": {},
   "cell_type": "markdown",
   "metadata": {},
   "source": [
    "## 2.\n",
    "     Python is an interpreted programming language, supporting object-oriented, structured, and functional programming."
   ]
  },
  {
   "attachments": {},
   "cell_type": "markdown",
   "metadata": {},
   "source": [
    "## 3.\n",
    "    YES,Python is case sensitive when dealing with identifiers."
   ]
  },
  {
   "attachments": {},
   "cell_type": "markdown",
   "metadata": {},
   "source": [
    "## 4.\n",
    "    \".py\" is the correct extension of the python files."
   ]
  },
  {
   "attachments": {},
   "cell_type": "markdown",
   "metadata": {},
   "source": [
    "## 5.\n",
    "    Python code is interpreted language. "
   ]
  },
  {
   "attachments": {},
   "cell_type": "markdown",
   "metadata": {},
   "source": [
    "## 6.    "
   ]
  },
  {
   "cell_type": "code",
   "execution_count": 2,
   "metadata": {},
   "outputs": [
    {
     "name": "stdout",
     "output_type": "stream",
     "text": [
      "30\n"
     ]
    }
   ],
   "source": [
    "a=10\n",
    "b=20\n",
    "print(a+b)"
   ]
  },
  {
   "cell_type": "code",
   "execution_count": 3,
   "metadata": {},
   "outputs": [
    {
     "data": {
      "text/plain": [
       "True"
      ]
     },
     "execution_count": 3,
     "metadata": {},
     "output_type": "execute_result"
    }
   ],
   "source": [
    "a=\"aniket\"\n",
    "b=30\n",
    "a.isalnum()\n",
    "a.isalpha()"
   ]
  },
  {
   "cell_type": "code",
   "execution_count": 4,
   "metadata": {},
   "outputs": [
    {
     "name": "stdout",
     "output_type": "stream",
     "text": [
      "a = 30\n",
      "b = 19\n"
     ]
    }
   ],
   "source": [
    "a=19\n",
    "b=30\n",
    "a,b=b,a\n",
    "print(\"a =\",a)\n",
    "print(\"b =\",b)\n"
   ]
  },
  {
   "attachments": {},
   "cell_type": "markdown",
   "metadata": {},
   "source": [
    "## 7.\n",
    "    example of single-line comment "
   ]
  },
  {
   "cell_type": "code",
   "execution_count": 5,
   "metadata": {},
   "outputs": [
    {
     "name": "stdout",
     "output_type": "stream",
     "text": [
      "50\n"
     ]
    }
   ],
   "source": [
    "\n",
    "a=20\n",
    "# a\n",
    "b=30\n",
    "print(a+b)"
   ]
  },
  {
   "attachments": {},
   "cell_type": "markdown",
   "metadata": {},
   "source": [
    "## 8.\n",
    "    step-1--> Press Win+R\n",
    "    step-2-->Type cmd\n",
    "    step-3-->Press OK \n",
    "    step-4-->type python\n",
    "    then you see  currently  python version in your laptop."
   ]
  },
  {
   "attachments": {},
   "cell_type": "markdown",
   "metadata": {},
   "source": [
    "## 9.\n",
    "    python supports the creation of anonymous functions at runtime,using a construct called lambda."
   ]
  },
  {
   "attachments": {},
   "cell_type": "markdown",
   "metadata": {},
   "source": [
    "## 10.\n",
    "    pip stand for preferred installer program."
   ]
  },
  {
   "attachments": {},
   "cell_type": "markdown",
   "metadata": {},
   "source": [
    "## 11.\n",
    "    A few built-in functions in python are:\n",
    "    a)bin()\n",
    "    b)dict()\n",
    "    c)iter()\n",
    "    d)len()\n",
    "    e)map()"
   ]
  },
  {
   "attachments": {},
   "cell_type": "markdown",
   "metadata": {},
   "source": [
    "## 12.\n",
    "    There is no limitation in python for an identifier"
   ]
  },
  {
   "attachments": {},
   "cell_type": "markdown",
   "metadata": {},
   "source": [
    "## 13.\n",
    "    1 - Readability and Simplicity\n",
    "    2 - Large Standard Library\n",
    "    3 - Cross-Platform Compatibility\n",
    "    4 - Strong Community and Third-Party Suppor\n",
    "    "
   ]
  },
  {
   "attachments": {},
   "cell_type": "markdown",
   "metadata": {},
   "source": [
    "## 14.\n",
    "   ->  According to the Python memory management documentation, Python has a private heap that stores our program’s objects and data structures.\n",
    "    \n",
    "    -> Python memory manager takes care of the bulk of the memory management work and allows us to concentrate on our code."
   ]
  },
  {
   "attachments": {},
   "cell_type": "markdown",
   "metadata": {},
   "source": [
    "## 15.\n",
    "1 - Download Python:\n",
    "\n",
    "Visit the official Python website at https://www.python.org/.\n",
    "Go to the Downloads section and click on the \"Download Python\" button.\n",
    "Choose the latest version of Python for Windows and select the appropriate installer (either 32-bit or 64-bit) based on your system.\n",
    "\n",
    "2 - Run the Installer:\n",
    "\n",
    "Once the installer is downloaded, double-click on the installer file (.exe) to run it.\n",
    "In the Python installer, make sure to select the option \"Add Python to PATH\" during the installation. This will automatically set up the required path variables.\n",
    "\n",
    "3 - Customize Installation (Optional):\n",
    "\n",
    "In the installer, you can customize the installation by clicking on the \"Customize installation\" button.\n",
    "Here, you can choose the installation location, optional features, and other settings based on your preference.\n",
    "\n",
    "4 - Complete the Installation:\n",
    "\n",
    "Click on the \"Install Now\" button to begin the installation process.\n",
    "The installer will extract and install Python to the specified location with the necessary components.\n",
    "\n",
    "5 - Verify the Installation:\n",
    "\n",
    "Open the Command Prompt by pressing Win + R, typing \"cmd,\" and clicking on the \"OK\" button.\n",
    "In the Command Prompt, type python --version and press Enter.\n",
    "If Python is installed correctly, it will display the installed Python version.\n",
    "\n",
    "6 - Set Python Path Variable (Optional):\n",
    "\n",
    "In some cases, the path variables may not be set automatically during the installation.\n",
    "To set the Python path variables manually, right-click on the \"This PC\" or \"My Computer\" icon and select \"Properties.\"\n",
    "From the System Properties window, click on the \"Advanced system settings\" link on the left side.\n",
    "In the System Properties dialog box, click on the \"Environment Variables\" button.\n",
    "In the Environment Variables window, under the \"System variables\" section, scroll down and find the \"Path\" variable.\n",
    "Select the \"Path\" variable and click on the \"Edit\" button.\n",
    "In the Edit Environment Variable dialog, click on the \"New\" button and add the path to your Python installation directory. By default, it is C:\\PythonXX (where \"XX\" represents the version number).\n",
    "Click \"OK\" to save the changes.\n"
   ]
  },
  {
   "attachments": {},
   "cell_type": "markdown",
   "metadata": {},
   "source": [
    "## 16.\n",
    "    Yes,Indentation required in python."
   ]
  },
  {
   "cell_type": "code",
   "execution_count": null,
   "metadata": {},
   "outputs": [],
   "source": []
  },
  {
   "cell_type": "code",
   "execution_count": null,
   "metadata": {},
   "outputs": [],
   "source": []
  }
 ],
 "metadata": {
  "kernelspec": {
   "display_name": "Python 3",
   "language": "python",
   "name": "python3"
  },
  "language_info": {
   "codemirror_mode": {
    "name": "ipython",
    "version": 3
   },
   "file_extension": ".py",
   "mimetype": "text/x-python",
   "name": "python",
   "nbconvert_exporter": "python",
   "pygments_lexer": "ipython3",
   "version": "3.11.4"
  },
  "orig_nbformat": 4,
  "vscode": {
   "interpreter": {
    "hash": "5238573367df39f7286bb46f9ff5f08f63a01a80960060ce41e3c79b190280fa"
   }
  }
 },
 "nbformat": 4,
 "nbformat_minor": 2
}
